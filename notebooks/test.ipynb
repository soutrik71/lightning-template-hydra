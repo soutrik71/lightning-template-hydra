{
 "cells": [
  {
   "cell_type": "code",
   "execution_count": 1,
   "metadata": {},
   "outputs": [],
   "source": [
    "import os"
   ]
  },
  {
   "cell_type": "code",
   "execution_count": 22,
   "metadata": {},
   "outputs": [],
   "source": [
    "from bs4 import BeautifulSoup\n",
    "import requests\n",
    "from loguru import logger\n",
    "from omegaconf import DictConfig\n",
    "from pathlib import Path\n",
    "\n",
    "\n",
    "def download_image():\n",
    "    \"\"\"Download an image from the web for inference.\"\"\"\n",
    "    page_url = \"https://github.com/laxmimerit/dog-cat-full-dataset/blob/master/data/train/cats/cat.1.jpg\"\n",
    "    headers = {\n",
    "        \"User-Agent\": \"Mozilla/5.0 (Windows NT 10.0; Win64; x64) AppleWebKit/537.36 (KHTML, like Gecko) Chrome/85.0.4183.121 Safari/537.36\",\n",
    "        \"Accept\": \"text/html,application/xhtml+xml,application/xml;q=0.9,image/webp,*/*;q=0.8\",\n",
    "        \"Accept-Language\": \"en-US,en;q=0.5\",\n",
    "        \"Connection\": \"keep-alive\",\n",
    "        \"Referer\": \"https://www.pexels.com/\",\n",
    "        \"Upgrade-Insecure-Requests\": \"1\",\n",
    "    }\n",
    "\n",
    "    response = requests.get(page_url, headers=headers, allow_redirects=True)\n",
    "    if response.status_code == 200:\n",
    "        image_path = \"./image.jpg\"\n",
    "        with open(image_path, \"wb\") as file:\n",
    "            file.write(response.content)\n",
    "        logger.info(f\"Image downloaded successfully as {image_path}!\")\n",
    "    else:\n",
    "        logger.error(\n",
    "            f\"Failed to access the webpage. Status code: {response.status_code}\"\n",
    "        )"
   ]
  },
  {
   "cell_type": "code",
   "execution_count": 23,
   "metadata": {},
   "outputs": [
    {
     "name": "stderr",
     "output_type": "stream",
     "text": [
      "\u001b[32m2024-10-21 07:42:39.979\u001b[0m | \u001b[1mINFO    \u001b[0m | \u001b[36m__main__\u001b[0m:\u001b[36mdownload_image\u001b[0m:\u001b[36m25\u001b[0m - \u001b[1mImage downloaded successfully as ./image.jpg!\u001b[0m\n"
     ]
    }
   ],
   "source": [
    "download_image()"
   ]
  },
  {
   "cell_type": "code",
   "execution_count": 32,
   "metadata": {},
   "outputs": [],
   "source": [
    "import requests\n",
    "from pathlib import Path\n",
    "\n",
    "def download_image():\n",
    "    \"\"\"Download an image from the web for inference.\"\"\"\n",
    "    url = \"https://github.com/laxmimerit/dog-cat-full-dataset/raw/master/data/train/dogs/dog.1.jpg\"\n",
    "    headers = {\n",
    "        \"User-Agent\": \"Mozilla/5.0 (Windows NT 10.0; Win64; x64) AppleWebKit/537.36 (KHTML, like Gecko) Chrome/85.0.4183.121 Safari/537.36\",\n",
    "    }\n",
    "\n",
    "    response = requests.get(url, headers=headers, allow_redirects=True)\n",
    "    if response.status_code == 200:\n",
    "        image_path =   \"./dog.jpg\"\n",
    "        with open(image_path, \"wb\") as file:\n",
    "            file.write(response.content)\n",
    "        print(f\"Image downloaded successfully as {image_path}!\")\n",
    "    else:\n",
    "        print(f\"Failed to download image. Status code: {response.status_code}\")\n"
   ]
  },
  {
   "cell_type": "code",
   "execution_count": 33,
   "metadata": {},
   "outputs": [
    {
     "name": "stdout",
     "output_type": "stream",
     "text": [
      "Image downloaded successfully as ./dog.jpg!\n"
     ]
    }
   ],
   "source": [
    "download_image()"
   ]
  },
  {
   "cell_type": "code",
   "execution_count": null,
   "metadata": {},
   "outputs": [],
   "source": []
  }
 ],
 "metadata": {
  "kernelspec": {
   "display_name": "poetry_env",
   "language": "python",
   "name": "python3"
  },
  "language_info": {
   "codemirror_mode": {
    "name": "ipython",
    "version": 3
   },
   "file_extension": ".py",
   "mimetype": "text/x-python",
   "name": "python",
   "nbconvert_exporter": "python",
   "pygments_lexer": "ipython3",
   "version": "3.10.14"
  }
 },
 "nbformat": 4,
 "nbformat_minor": 2
}
